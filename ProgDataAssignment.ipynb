{
 "cells": [
  {
   "cell_type": "markdown",
   "metadata": {},
   "source": [
    "# Programming for Data Analysis Assignment 2018."
   ]
  },
  {
   "cell_type": "markdown",
   "metadata": {},
   "source": [
    "### The problem statement for this assignment\n",
    "1. Explain the overall purpose of the numpy.random package.\n",
    "2. Explain the use of the \"Simple random data\" and \"Permutations\" functions.\n",
    "3. Explain the use and purpose of *at least* five \"Distributions\" functions.\n",
    "4. Explain the use of seeds in generating pseudorandom numbers."
   ]
  },
  {
   "cell_type": "markdown",
   "metadata": {},
   "source": [
    "#### 1. The overall purpose of the numpy.random package.\n",
    "\n",
    "In understanding what the numpy.random package, I'm initially going to outline what the NumPy Python package is used for. The current [NumPy manual](https://docs.scipy.org/doc/numpy-1.15.0/user/whatisnumpy.html) describes as \"the fundamental package for scientific computing in Python\".\n",
    "\n",
    "In short, the NumPy package is a Python language package that enables the user to utilise arrays, matrices, routines and functions to work with numerical data more easily, rather than developing these objects with raw Python programming.  \n",
    "\n",
    "The [numpy.random package](https://docs.scipy.org/doc/numpy-1.15.0/reference/routines.random.html), is a collection of Python functions that generate *pseudorandom* numbers and data. Due to the present limitations of computer hardware, it is impossible to generate a *true* [random number](https://softwareengineering.stackexchange.com/questions/124233/why-is-it-impossible-to-produce-truly-random-numbers). But this isn't really a problem for us, unless we are trying to generate *cryptographically secure* random numbers.\n",
    "\n"
   ]
  },
  {
   "cell_type": "markdown",
   "metadata": {},
   "source": [
    "#### 2. Explain the use of the \"Simple random data\" and \"Permutations\" functions.\n",
    "\n",
    "The NumPy Simple [random data](https://docs.scipy.org/doc/numpy-1.15.0/reference/routines.random.html) functions generate arrays of random numbers formatted according to the Parameters (arguments) passed to the function and the specifications of the function used."
   ]
  },
  {
   "cell_type": "code",
   "execution_count": 10,
   "metadata": {},
   "outputs": [
    {
     "data": {
      "image/png": "[encoded data removed]",
      "text/plain": [
       "<Figure size 432x288 with 1 Axes>"
      ]
     },
     "metadata": {},
     "output_type": "display_data"
    }
   ],
   "source": [
    "# Import python libraries\n",
    "import numpy as np\n",
    "\n",
    "%matplotlib inline \n",
    "import matplotlib.pyplot as plt\n",
    "\n",
    "#declare function and variables\n",
    "r = np.random.rand(5,3)\n",
    "\n",
    "plt.hist(r)\n",
    "\n",
    "plt.show()"
   ]
  },
  {
   "cell_type": "markdown",
   "metadata": {},
   "source": [
    "The NumPy Permutations functions modify a sequence of numbers. The [numpy.random.shuffle](https://docs.scipy.org/doc/numpy-1.15.0/reference/generated/numpy.random.shuffle.html#numpy.random.shuffle)function shuffles a sequence in-place, and the [numpy.random.permutation](https://docs.scipy.org/doc/numpy-1.15.0/reference/generated/numpy.random.permutation.html#numpy.random.permutation) creates a random sequence without the need to declare a Python list(array)."
   ]
  },
  {
   "cell_type": "code",
   "execution_count": 13,
   "metadata": {},
   "outputs": [
    {
     "data": {
      "image/png": "[encoded data removed]",
      "text/plain": [
       "<Figure size 432x288 with 1 Axes>"
      ]
     },
     "metadata": {},
     "output_type": "display_data"
    }
   ],
   "source": [
    "#random.shuffle function\n",
    "#array is initially declared using np.arange function\n",
    "arr = np.arange(42)\n",
    "np.random.shuffle(arr)\n",
    "arr\n",
    "\n",
    "plt.hist(r)\n",
    "\n",
    "plt.show()"
   ]
  },
  {
   "cell_type": "code",
   "execution_count": 15,
   "metadata": {},
   "outputs": [
    {
     "data": {
      "image/png": "[encoded data removed]",
      "text/plain": [
       "<Figure size 432x288 with 1 Axes>"
      ]
     },
     "metadata": {},
     "output_type": "display_data"
    }
   ],
   "source": [
    "#random.permutation function\n",
    "#single dimensional array does not require .arange function\n",
    "np.random.permutation(42)\n",
    "\n",
    "plt.hist(r)\n",
    "\n",
    "plt.show()"
   ]
  },
  {
   "cell_type": "markdown",
   "metadata": {},
   "source": [
    "#### 3. Explain the use and purpose of *at least* five \"Distributions\" functions.\n",
    "\n",
    "* [Normal (Gaussian) distribution](https://docs.scipy.org/doc/numpy-1.15.0/reference/generated/numpy.random.normal.html#numpy.random.normal)\n",
    "\n",
    "* [Poisson distribution](https://docs.scipy.org/doc/numpy-1.15.0/reference/generated/numpy.random.poisson.html#numpy.random.poisson)\n",
    "\n",
    "* [Gamma distribution](https://docs.scipy.org/doc/numpy-1.15.0/reference/generated/numpy.random.gamma.html#numpy.random.gamma)\n",
    "\n",
    "* [Uniform distribution](https://docs.scipy.org/doc/numpy-1.15.0/reference/generated/numpy.random.uniform.html#numpy.random.uniform)\n",
    "\n",
    "* [Triangular distribution](https://docs.scipy.org/doc/numpy-1.15.0/reference/generated/numpy.random.triangular.html#numpy.random.triangular)\n",
    "\n",
    "\n"
   ]
  },
  {
   "cell_type": "markdown",
   "metadata": {},
   "source": [
    "#### Normal (Gaussian) distribution"
   ]
  },
  {
   "cell_type": "code",
   "execution_count": 18,
   "metadata": {},
   "outputs": [
    {
     "data": {
      "image/png": "[encoded data removed]",
      "text/plain": [
       "<Figure size 432x288 with 1 Axes>"
      ]
     },
     "metadata": {},
     "output_type": "display_data"
    }
   ],
   "source": [
    "# Normal (Gaussian) distribution\n",
    "x = np.random.normal(0,0.1,14679)\n",
    "\n",
    "plt.hist (x)\n",
    "\n",
    "plt.show()\n"
   ]
  },
  {
   "cell_type": "markdown",
   "metadata": {},
   "source": [
    "#### 4. Explain the use of seeds in generating pseudorandom numbers.\n",
    "\n"
   ]
  },
  {
   "cell_type": "code",
   "execution_count": 6,
   "metadata": {},
   "outputs": [
    {
     "ename": "NameError",
     "evalue": "name 'PI' is not defined",
     "output_type": "error",
     "traceback": [
      "\u001b[0;31m---------------------------------------------------------------------------\u001b[0m",
      "\u001b[0;31mNameError\u001b[0m                                 Traceback (most recent call last)",
      "\u001b[0;32m<ipython-input-6-e2f67012df6d>\u001b[0m in \u001b[0;36m<module>\u001b[0;34m()\u001b[0m\n\u001b[1;32m      1\u001b[0m \u001b[0;31m# Seed the RNG\u001b[0m\u001b[0;34m\u001b[0m\u001b[0;34m\u001b[0m\u001b[0m\n\u001b[0;32m----> 2\u001b[0;31m \u001b[0mnp\u001b[0m\u001b[0;34m.\u001b[0m\u001b[0mrandom\u001b[0m\u001b[0;34m.\u001b[0m\u001b[0mseed\u001b[0m\u001b[0;34m(\u001b[0m\u001b[0mPI\u001b[0m\u001b[0;34m)\u001b[0m\u001b[0;34m\u001b[0m\u001b[0m\n\u001b[0m\u001b[1;32m      3\u001b[0m \u001b[0;34m\u001b[0m\u001b[0m\n\u001b[1;32m      4\u001b[0m \u001b[0;31m# Generate random numbers\u001b[0m\u001b[0;34m\u001b[0m\u001b[0;34m\u001b[0m\u001b[0m\n\u001b[1;32m      5\u001b[0m \u001b[0mnp\u001b[0m\u001b[0;34m.\u001b[0m\u001b[0mrandom\u001b[0m\u001b[0;34m.\u001b[0m\u001b[0mrandom\u001b[0m\u001b[0;34m(\u001b[0m\u001b[0msize\u001b[0m\u001b[0;34m=\u001b[0m\u001b[0;36m5\u001b[0m\u001b[0;34m)\u001b[0m\u001b[0;34m\u001b[0m\u001b[0m\n",
      "\u001b[0;31mNameError\u001b[0m: name 'PI' is not defined"
     ]
    }
   ],
   "source": [
    "# Seed the RNG\n",
    "np.random.seed()\n",
    "\n",
    "# Generate random numbers\n",
    "np.random.random(size=5)"
   ]
  },
  {
   "cell_type": "code",
   "execution_count": null,
   "metadata": {},
   "outputs": [],
   "source": []
  },
  {
   "cell_type": "code",
   "execution_count": null,
   "metadata": {},
   "outputs": [],
   "source": []
  },
  {
   "cell_type": "code",
   "execution_count": null,
   "metadata": {},
   "outputs": [],
   "source": []
  }
 ],
 "metadata": {
  "kernelspec": {
   "display_name": "Python 3",
   "language": "python",
   "name": "python3"
  },
  "language_info": {
   "codemirror_mode": {
    "name": "ipython",
    "version": 3
   },
   "file_extension": ".py",
   "mimetype": "text/x-python",
   "name": "python",
   "nbconvert_exporter": "python",
   "pygments_lexer": "ipython3",
   "version": "3.6.5"
  }
 },
 "nbformat": 4,
 "nbformat_minor": 2
}
