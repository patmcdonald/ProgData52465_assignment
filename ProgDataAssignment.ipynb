{
 "cells": [
  {
   "cell_type": "markdown",
   "metadata": {},
   "source": [
    "# Programming for Data Analysis Assignment 2018."
   ]
  },
  {
   "cell_type": "markdown",
   "metadata": {},
   "source": [
    "### The problem statement for this assignment\n",
    "1. Explain the overall purpose of the numpy.random package.\n",
    "2. Explain the use of the \"Simple random data\" and \"Permutations\" functions.\n",
    "3. Explain the use and purpose of *at least* five \"Distributions\" functions.\n",
    "4. Explain the use of seeds in generating pseudorandom numbers."
   ]
  },
  {
   "cell_type": "markdown",
   "metadata": {},
   "source": [
    "#### 1. The overall purpose of the numpy.random package.\n",
    "\n",
    "In understanding what the numpy.random package, I'm initially going to outline what the NumPy Python package is used for. The current [NumPy manual](https://docs.scipy.org/doc/numpy-1.15.0/user/whatisnumpy.html) describes as \"the fundamental package for scientific computing in Python\".\n",
    "\n",
    "In short, the NumPy package is a Python language package that enables the user to utilise arrays, matrices, routines and functions to work with numerical data more easily, rather than developing these objects with raw Python programming.  \n",
    "\n",
    "The [numpy.random package](https://docs.scipy.org/doc/numpy-1.15.0/reference/routines.random.html), is a collection of Python functions that generate *pseudorandom* numbers and data. Due to the present limitations of computer hardware, it is impossible to generate a *true* [random number](https://softwareengineering.stackexchange.com/questions/124233/why-is-it-impossible-to-produce-truly-random-numbers). But this isn't really a problem for us, unless we are trying to generate *cryptographically secure* random numbers.\n",
    "\n"
   ]
  },
  {
   "cell_type": "markdown",
   "metadata": {},
   "source": [
    "#### 2. Explain the use of the \"Simple random data\" and \"Permutations\" functions.\n",
    "\n",
    "The NumPy Simple [random data](https://docs.scipy.org/doc/numpy-1.15.0/reference/routines.random.html) functions generate arrays of random numbers formatted according to the Parameters (arguments) passed to the function and the specifications of the function used."
   ]
  },
  {
   "cell_type": "code",
   "execution_count": 28,
   "metadata": {},
   "outputs": [
    {
     "data": {
      "text/plain": [
       "array([[0.79431745, 0.04670004, 0.58026021],\n",
       "       [0.07451129, 0.16007004, 0.43488873],\n",
       "       [0.59376418, 0.14015816, 0.89892299],\n",
       "       [0.97871952, 0.92973789, 0.39278113],\n",
       "       [0.28933945, 0.31675249, 0.98689438]])"
      ]
     },
     "execution_count": 28,
     "metadata": {},
     "output_type": "execute_result"
    }
   ],
   "source": [
    "#declare random function and variables\n",
    "np.random.rand(5,3)"
   ]
  },
  {
   "cell_type": "markdown",
   "metadata": {},
   "source": [
    "The NumPy Permutations functions modify a sequence of numbers. The [numpy.random.shuffle](https://docs.scipy.org/doc/numpy-1.15.0/reference/generated/numpy.random.shuffle.html#numpy.random.shuffle)function shuffles a sequence in-place, and the [numpy.random.permutation](https://docs.scipy.org/doc/numpy-1.15.0/reference/generated/numpy.random.permutation.html#numpy.random.permutation) creates a random sequence without the need to declare a Python list(array)."
   ]
  },
  {
   "cell_type": "code",
   "execution_count": 30,
   "metadata": {},
   "outputs": [
    {
     "data": {
      "text/plain": [
       "array([26, 25, 28, 20,  5, 39,  9, 12, 31, 14, 23, 27, 19, 41, 32, 38, 11,\n",
       "       30, 21,  4, 16,  2,  3, 15, 36, 13,  0, 40,  7, 17,  8, 37, 34, 24,\n",
       "       33,  6,  1, 35, 29, 22, 10, 18])"
      ]
     },
     "execution_count": 30,
     "metadata": {},
     "output_type": "execute_result"
    }
   ],
   "source": [
    "#random.shuffle function\n",
    "#array is initially declared using np.arange function\n",
    "arr = np.arange(42)\n",
    "np.random.shuffle(arr)\n",
    "arr\n"
   ]
  },
  {
   "cell_type": "code",
   "execution_count": 29,
   "metadata": {},
   "outputs": [
    {
     "data": {
      "text/plain": [
       "array([ 8, 13, 37, 20, 31, 35, 25, 10, 41, 15, 22, 36, 30,  3,  5,  9, 33,\n",
       "       24, 26, 21, 23, 12,  6,  1, 28,  4, 18,  0, 27,  7, 40, 11, 14, 16,\n",
       "       39, 32, 17, 38, 19, 34, 29,  2])"
      ]
     },
     "execution_count": 29,
     "metadata": {},
     "output_type": "execute_result"
    }
   ],
   "source": [
    "#random.permutation function\n",
    "#single dimensional array does not require .arange function\n",
    "np.random.permutation(42)\n"
   ]
  },
  {
   "cell_type": "markdown",
   "metadata": {},
   "source": [
    "#### 3. Explain the use and purpose of *at least* five \"Distributions\" functions.\n",
    "\n",
    "* [Normal (Gaussian) distribution](https://docs.scipy.org/doc/numpy-1.15.0/reference/generated/numpy.random.normal.html#numpy.random.normal)\n",
    "\n",
    "* [Poisson distribution](https://docs.scipy.org/doc/numpy-1.15.0/reference/generated/numpy.random.poisson.html#numpy.random.poisson)\n",
    "\n",
    "* [Gamma distribution](https://docs.scipy.org/doc/numpy-1.15.0/reference/generated/numpy.random.gamma.html#numpy.random.gamma)\n",
    "\n",
    "* [Uniform distribution](https://docs.scipy.org/doc/numpy-1.15.0/reference/generated/numpy.random.uniform.html#numpy.random.uniform)\n",
    "\n",
    "* [Triangular distribution](https://docs.scipy.org/doc/numpy-1.15.0/reference/generated/numpy.random.triangular.html#numpy.random.triangular)\n",
    "\n",
    "\n"
   ]
  },
  {
   "cell_type": "markdown",
   "metadata": {},
   "source": [
    "#### Normal (Gaussian) distribution"
   ]
  },
  {
   "cell_type": "code",
   "execution_count": 19,
   "metadata": {},
   "outputs": [
    {
     "data": {
      "image/png": "[encoded data removed]",
      "text/plain": [
       "<Figure size 432x288 with 1 Axes>"
      ]
     },
     "metadata": {},
     "output_type": "display_data"
    }
   ],
   "source": [
    "# Normal(Gaussian) distribution\n",
    "\n",
    "x = np.random.normal(0,0.1,14679)\n",
    "\n",
    "plt.hist (x)\n",
    "\n",
    "plt.show()\n"
   ]
  },
  {
   "cell_type": "markdown",
   "metadata": {},
   "source": [
    "#### Poisson distribution"
   ]
  },
  {
   "cell_type": "code",
   "execution_count": 24,
   "metadata": {},
   "outputs": [
    {
     "data": {
      "text/plain": [
       "<function matplotlib.pyplot.show(*args, **kw)>"
      ]
     },
     "execution_count": 24,
     "metadata": {},
     "output_type": "execute_result"
    },
    {
     "data": {
      "image/png": "[encoded data removed]",
      "text/plain": [
       "<Figure size 432x288 with 1 Axes>"
      ]
     },
     "metadata": {},
     "output_type": "display_data"
    }
   ],
   "source": [
    "#Poisson distribution\n",
    "p = np.random.poisson(9, 14679)\n",
    "\n",
    "plt.hist(p)\n",
    "\n",
    "plt.show"
   ]
  },
  {
   "cell_type": "markdown",
   "metadata": {},
   "source": [
    "#### Gamma distribution"
   ]
  },
  {
   "cell_type": "markdown",
   "metadata": {},
   "source": [
    "#### Uniform distribution"
   ]
  },
  {
   "cell_type": "markdown",
   "metadata": {},
   "source": [
    "#### Triangular distribution"
   ]
  },
  {
   "cell_type": "markdown",
   "metadata": {},
   "source": [
    "#### 4. Explain the use of seeds in generating pseudorandom numbers.\n",
    "\n"
   ]
  },
  {
   "cell_type": "code",
   "execution_count": 26,
   "metadata": {},
   "outputs": [
    {
     "data": {
      "text/plain": [
       "array([0.01037415, 0.50187459, 0.49577329, 0.13382953, 0.14211109])"
      ]
     },
     "execution_count": 26,
     "metadata": {},
     "output_type": "execute_result"
    }
   ],
   "source": [
    "# Seed the RNG\n",
    "np.random.seed(9)\n",
    "\n",
    "# Generate random numbers\n",
    "np.random.random(size=5)"
   ]
  },
  {
   "cell_type": "code",
   "execution_count": null,
   "metadata": {},
   "outputs": [],
   "source": []
  }
 ],
 "metadata": {
  "kernelspec": {
   "display_name": "Python 3",
   "language": "python",
   "name": "python3"
  },
  "language_info": {
   "codemirror_mode": {
    "name": "ipython",
    "version": 3
   },
   "file_extension": ".py",
   "mimetype": "text/x-python",
   "name": "python",
   "nbconvert_exporter": "python",
   "pygments_lexer": "ipython3",
   "version": "3.6.5"
  }
 },
 "nbformat": 4,
 "nbformat_minor": 2
}
